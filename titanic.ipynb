{
 "cells": [
  {
   "cell_type": "code",
   "execution_count": 5,
   "id": "de72ebe7",
   "metadata": {},
   "outputs": [
    {
     "name": "stdout",
     "output_type": "stream",
     "text": [
      "[0 0 0 0 1 0 1 0 1 0 0 0 1 0 1 1 0 0 1 1 0 0 1 1 1 0 1 0 0 0 0 0 0 0 0 0 1\n",
      " 1 0 0 0 0 0 1 1 0 0 0 1 0 0 0 1 1 0 0 0 0 0 1 0 0 0 1 1 1 1 0 1 1 1 0 1 1\n",
      " 1 1 0 1 0 1 0 0 0 0 0 0 1 1 1 0 1 0 1 0 1 0 1 0 1 0 1 0 0 0 1 0 0 0 0 0 0\n",
      " 1 1 1 1 0 0 1 1 1 1 0 1 0 0 1 0 1 0 0 0 0 1 0 0 0 0 0 1 0 0 1 0 0 0 0 0 0\n",
      " 0 0 1 0 0 0 0 0 1 1 0 1 1 0 1 0 0 1 0 0 1 1 0 0 0 0 0 1 1 0 1 1 0 0 1 0 1\n",
      " 0 1 0 0 0 0 0 0 0 0 0 1 1 0 1 1 0 0 1 0 1 1 0 1 0 0 0 0 1 0 0 1 0 1 0 1 0\n",
      " 1 0 1 1 0 1 0 0 0 1 0 0 0 0 0 0 1 1 1 1 0 0 0 0 1 0 1 1 1 0 1 0 0 0 0 0 1\n",
      " 0 0 0 1 1 0 0 0 0 1 0 0 0 1 1 0 1 0 0 0 0 1 0 1 1 1 0 0 0 0 0 0 1 0 0 0 0\n",
      " 1 0 0 0 0 0 0 0 1 1 0 0 0 0 0 0 0 1 1 1 0 0 0 0 0 0 0 0 1 0 1 0 0 0 1 0 0\n",
      " 1 0 0 0 0 0 0 0 0 0 1 0 1 0 1 0 1 1 0 0 0 1 0 1 0 0 1 0 1 1 0 1 0 0 1 1 0\n",
      " 0 1 0 0 1 1 1 0 0 0 0 0 1 1 0 1 0 0 0 0 1 1 0 0 0 1 0 1 0 0 1 0 1 1 0 0 0\n",
      " 0 1 1 1 1 1 0 1 0 0 0]\n",
      "Submission file created successfully\n"
     ]
    }
   ],
   "source": [
    "import pandas as pd \n",
    "from sklearn.linear_model import LogisticRegression\n",
    "from sklearn.preprocessing import LabelEncoder, MinMaxScaler ,StandardScaler\n",
    "\n",
    "\n",
    "#dataset\n",
    "df = pd.read_csv(\"train.csv\")\n",
    "df1 = pd.read_csv(\"test.csv\")\n",
    "# save PassengerId for output\n",
    "passenger_id = df1[\"PassengerId\"]\n",
    "\n",
    "#data cleaning\n",
    "df['Age'].fillna(df['Age'].mean(),inplace=True)\n",
    "df1['Age'].fillna(df1['Age'].mean(),inplace=True)\n",
    "df1['Fare'].fillna(df1['Fare'].median(),inplace=True)\n",
    "df['Embarked'].fillna(df['Embarked'].mode()[0],inplace=True)\n",
    "df.drop('Cabin',axis=1,inplace=True)\n",
    "df1.drop('Cabin',axis=1,inplace=True)\n",
    "df.drop(['Ticket','Name'],axis=1,inplace=True)\n",
    "df1.drop(['Ticket','Name'],axis=1,inplace=True)\n",
    "\n",
    "\n",
    "#data preprocessing\n",
    "le = LabelEncoder()\n",
    "df['sex_encoded'] = le.fit_transform(df['Sex'])\n",
    "df1['sex_encoded'] = le.fit_transform(df1['Sex'])\n",
    "df = pd.get_dummies(df,columns=['Embarked'])\n",
    "df1 = pd.get_dummies(df1,columns=['Embarked'])\n",
    "df.drop('Sex',axis=1,inplace=True)\n",
    "df1.drop('Sex',axis=1,inplace=True)\n",
    "\n",
    "\n",
    "\n",
    "#model traning\n",
    "\n",
    "X = df.drop(['Survived'],axis=1)\n",
    "Y = df['Survived']\n",
    "\n",
    "\n",
    "sl = StandardScaler()\n",
    "mx= MinMaxScaler()\n",
    "\n",
    "df = sl.fit_transform(X)\n",
    "df1 = sl.fit_transform(df1)\n",
    "\n",
    "\n",
    "df= mx.fit_transform(df)\n",
    "df1= mx.fit_transform(df1)\n",
    "\n",
    "model =LogisticRegression()\n",
    "model.fit(df,Y)\n",
    "\n",
    "Result = model.predict(df1)\n",
    "\n",
    "print(Result)\n",
    "\n",
    "\n",
    "#output\n",
    "\n",
    "output = pd.DataFrame({\"PassengerId\":passenger_id,\"Survived\":Result})\n",
    "\n",
    "output.to_csv(\"Submission.csv\",index=False)\n",
    "print(\"Submission file created successfully\")\n"
   ]
  }
 ],
 "metadata": {
  "kernelspec": {
   "display_name": "Python 3",
   "language": "python",
   "name": "python3"
  },
  "language_info": {
   "codemirror_mode": {
    "name": "ipython",
    "version": 3
   },
   "file_extension": ".py",
   "mimetype": "text/x-python",
   "name": "python",
   "nbconvert_exporter": "python",
   "pygments_lexer": "ipython3",
   "version": "3.11.1"
  }
 },
 "nbformat": 4,
 "nbformat_minor": 5
}
